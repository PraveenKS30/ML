{
 "cells": [
  {
   "cell_type": "markdown",
   "metadata": {},
   "source": [
    "## Predict How many days will be taken to process Claims ?\n",
    "The dataset has received and paid date of historical claims.."
   ]
  },
  {
   "cell_type": "code",
   "execution_count": 243,
   "metadata": {},
   "outputs": [],
   "source": [
    "import pandas as pd\n",
    "from sklearn.preprocessing import LabelEncoder\n",
    "from sklearn.preprocessing import StandardScaler\n",
    "from sklearn.decomposition import PCA\n",
    "from sklearn.model_selection import train_test_split\n",
    "from sklearn.metrics import mean_absolute_error,mean_squared_error\n",
    "from sklearn.model_selection import GridSearchCV\n",
    "from sklearn.tree import DecisionTreeRegressor\n",
    "%matplotlib inline\n",
    "import matplotlib.pyplot as plt"
   ]
  },
  {
   "cell_type": "code",
   "execution_count": 198,
   "metadata": {},
   "outputs": [],
   "source": [
    "data = pd.read_excel('Claims.xlsx')"
   ]
  },
  {
   "cell_type": "code",
   "execution_count": 199,
   "metadata": {},
   "outputs": [
    {
     "data": {
      "text/html": [
       "<div>\n",
       "<style scoped>\n",
       "    .dataframe tbody tr th:only-of-type {\n",
       "        vertical-align: middle;\n",
       "    }\n",
       "\n",
       "    .dataframe tbody tr th {\n",
       "        vertical-align: top;\n",
       "    }\n",
       "\n",
       "    .dataframe thead th {\n",
       "        text-align: right;\n",
       "    }\n",
       "</style>\n",
       "<table border=\"1\" class=\"dataframe\">\n",
       "  <thead>\n",
       "    <tr style=\"text-align: right;\">\n",
       "      <th></th>\n",
       "      <th>tbl_Header.fld_ClaimID</th>\n",
       "      <th>Received_Date</th>\n",
       "      <th>fld_Member</th>\n",
       "      <th>fld_memDOB</th>\n",
       "      <th>fld_MemSex</th>\n",
       "      <th>fld_Memgrp</th>\n",
       "      <th>fld_Provider</th>\n",
       "      <th>fld_Spec</th>\n",
       "      <th>fld_NPI</th>\n",
       "      <th>fld_DOS</th>\n",
       "      <th>fld_ServiceLineNumber</th>\n",
       "      <th>fld_Benefit</th>\n",
       "      <th>fld_COB</th>\n",
       "      <th>fld_Diag</th>\n",
       "      <th>tbl_Header.fld_POS</th>\n",
       "      <th>fld_QTY</th>\n",
       "      <th>fld_Code</th>\n",
       "      <th>fld_Mod</th>\n",
       "      <th>fld_PaidDate</th>\n",
       "    </tr>\n",
       "  </thead>\n",
       "  <tbody>\n",
       "    <tr>\n",
       "      <th>0</th>\n",
       "      <td>7002E01097</td>\n",
       "      <td>2017-01-02</td>\n",
       "      <td>11134629*01</td>\n",
       "      <td>1978-01-14</td>\n",
       "      <td>M</td>\n",
       "      <td>HH9653*CS08F</td>\n",
       "      <td>P5313276</td>\n",
       "      <td>EMM</td>\n",
       "      <td>1.942254e+09</td>\n",
       "      <td>2017-01-01</td>\n",
       "      <td>2</td>\n",
       "      <td>LAB-FP1</td>\n",
       "      <td>0.0</td>\n",
       "      <td>R10.9</td>\n",
       "      <td>NaN</td>\n",
       "      <td>1</td>\n",
       "      <td>80053</td>\n",
       "      <td>NaN</td>\n",
       "      <td>2017-01-04</td>\n",
       "    </tr>\n",
       "    <tr>\n",
       "      <th>1</th>\n",
       "      <td>7002E01097</td>\n",
       "      <td>2017-01-02</td>\n",
       "      <td>11134629*01</td>\n",
       "      <td>1978-01-14</td>\n",
       "      <td>M</td>\n",
       "      <td>HH9653*CS08F</td>\n",
       "      <td>P5313276</td>\n",
       "      <td>EMM</td>\n",
       "      <td>1.942254e+09</td>\n",
       "      <td>2017-01-01</td>\n",
       "      <td>3</td>\n",
       "      <td>LAB-FP1</td>\n",
       "      <td>0.0</td>\n",
       "      <td>R10.9</td>\n",
       "      <td>NaN</td>\n",
       "      <td>1</td>\n",
       "      <td>83690</td>\n",
       "      <td>NaN</td>\n",
       "      <td>2017-01-04</td>\n",
       "    </tr>\n",
       "    <tr>\n",
       "      <th>2</th>\n",
       "      <td>7002E01097</td>\n",
       "      <td>2017-01-02</td>\n",
       "      <td>11134629*01</td>\n",
       "      <td>1978-01-14</td>\n",
       "      <td>M</td>\n",
       "      <td>HH9653*CS08F</td>\n",
       "      <td>P5313276</td>\n",
       "      <td>EMM</td>\n",
       "      <td>1.942254e+09</td>\n",
       "      <td>2017-01-01</td>\n",
       "      <td>1</td>\n",
       "      <td>LAB-FP1</td>\n",
       "      <td>0.0</td>\n",
       "      <td>R10.9</td>\n",
       "      <td>NaN</td>\n",
       "      <td>1</td>\n",
       "      <td>85025</td>\n",
       "      <td>NaN</td>\n",
       "      <td>2017-01-04</td>\n",
       "    </tr>\n",
       "    <tr>\n",
       "      <th>3</th>\n",
       "      <td>7002E01881</td>\n",
       "      <td>2017-01-02</td>\n",
       "      <td>11906016*02</td>\n",
       "      <td>2013-11-04</td>\n",
       "      <td>F</td>\n",
       "      <td>OR2142*CS05F</td>\n",
       "      <td>A4486702</td>\n",
       "      <td>URG</td>\n",
       "      <td>1.730492e+09</td>\n",
       "      <td>2017-01-01</td>\n",
       "      <td>1</td>\n",
       "      <td>URGCARD$75</td>\n",
       "      <td>0.0</td>\n",
       "      <td>H92.01</td>\n",
       "      <td>NaN</td>\n",
       "      <td>1</td>\n",
       "      <td>S9083</td>\n",
       "      <td>NaN</td>\n",
       "      <td>2017-01-05</td>\n",
       "    </tr>\n",
       "    <tr>\n",
       "      <th>4</th>\n",
       "      <td>7002E15981</td>\n",
       "      <td>2017-01-02</td>\n",
       "      <td>12703460*01</td>\n",
       "      <td>1970-03-06</td>\n",
       "      <td>M</td>\n",
       "      <td>FI9573*CSP07</td>\n",
       "      <td>A782875</td>\n",
       "      <td>DME</td>\n",
       "      <td>1.336234e+09</td>\n",
       "      <td>2017-01-01</td>\n",
       "      <td>1</td>\n",
       "      <td>DME-CT</td>\n",
       "      <td>0.0</td>\n",
       "      <td>G47.33</td>\n",
       "      <td>NaN</td>\n",
       "      <td>1</td>\n",
       "      <td>E0470</td>\n",
       "      <td>RR</td>\n",
       "      <td>2017-01-17</td>\n",
       "    </tr>\n",
       "  </tbody>\n",
       "</table>\n",
       "</div>"
      ],
      "text/plain": [
       "  tbl_Header.fld_ClaimID Received_Date   fld_Member fld_memDOB fld_MemSex  \\\n",
       "0             7002E01097    2017-01-02  11134629*01 1978-01-14          M   \n",
       "1             7002E01097    2017-01-02  11134629*01 1978-01-14          M   \n",
       "2             7002E01097    2017-01-02  11134629*01 1978-01-14          M   \n",
       "3             7002E01881    2017-01-02  11906016*02 2013-11-04          F   \n",
       "4             7002E15981    2017-01-02  12703460*01 1970-03-06          M   \n",
       "\n",
       "     fld_Memgrp fld_Provider fld_Spec       fld_NPI    fld_DOS  \\\n",
       "0  HH9653*CS08F     P5313276      EMM  1.942254e+09 2017-01-01   \n",
       "1  HH9653*CS08F     P5313276      EMM  1.942254e+09 2017-01-01   \n",
       "2  HH9653*CS08F     P5313276      EMM  1.942254e+09 2017-01-01   \n",
       "3  OR2142*CS05F     A4486702      URG  1.730492e+09 2017-01-01   \n",
       "4  FI9573*CSP07      A782875      DME  1.336234e+09 2017-01-01   \n",
       "\n",
       "  fld_ServiceLineNumber fld_Benefit  fld_COB fld_Diag  tbl_Header.fld_POS  \\\n",
       "0                     2     LAB-FP1      0.0    R10.9                 NaN   \n",
       "1                     3     LAB-FP1      0.0    R10.9                 NaN   \n",
       "2                     1     LAB-FP1      0.0    R10.9                 NaN   \n",
       "3                     1  URGCARD$75      0.0   H92.01                 NaN   \n",
       "4                     1      DME-CT      0.0   G47.33                 NaN   \n",
       "\n",
       "   fld_QTY fld_Code fld_Mod fld_PaidDate  \n",
       "0        1    80053     NaN   2017-01-04  \n",
       "1        1    83690     NaN   2017-01-04  \n",
       "2        1    85025     NaN   2017-01-04  \n",
       "3        1    S9083     NaN   2017-01-05  \n",
       "4        1    E0470      RR   2017-01-17  "
      ]
     },
     "execution_count": 199,
     "metadata": {},
     "output_type": "execute_result"
    }
   ],
   "source": [
    "data.head()"
   ]
  },
  {
   "cell_type": "markdown",
   "metadata": {},
   "source": [
    "While exporting from excel, fld_NPI columns is coming in scientific notation. Let's convert it into int."
   ]
  },
  {
   "cell_type": "code",
   "execution_count": 200,
   "metadata": {},
   "outputs": [],
   "source": [
    "data = pd.read_excel('Claims.xlsx', converters= {'fld_NPI':int})"
   ]
  },
  {
   "cell_type": "code",
   "execution_count": 201,
   "metadata": {},
   "outputs": [
    {
     "data": {
      "text/html": [
       "<div>\n",
       "<style scoped>\n",
       "    .dataframe tbody tr th:only-of-type {\n",
       "        vertical-align: middle;\n",
       "    }\n",
       "\n",
       "    .dataframe tbody tr th {\n",
       "        vertical-align: top;\n",
       "    }\n",
       "\n",
       "    .dataframe thead th {\n",
       "        text-align: right;\n",
       "    }\n",
       "</style>\n",
       "<table border=\"1\" class=\"dataframe\">\n",
       "  <thead>\n",
       "    <tr style=\"text-align: right;\">\n",
       "      <th></th>\n",
       "      <th>tbl_Header.fld_ClaimID</th>\n",
       "      <th>Received_Date</th>\n",
       "      <th>fld_Member</th>\n",
       "      <th>fld_memDOB</th>\n",
       "      <th>fld_MemSex</th>\n",
       "      <th>fld_Memgrp</th>\n",
       "      <th>fld_Provider</th>\n",
       "      <th>fld_Spec</th>\n",
       "      <th>fld_NPI</th>\n",
       "      <th>fld_DOS</th>\n",
       "      <th>fld_ServiceLineNumber</th>\n",
       "      <th>fld_Benefit</th>\n",
       "      <th>fld_COB</th>\n",
       "      <th>fld_Diag</th>\n",
       "      <th>tbl_Header.fld_POS</th>\n",
       "      <th>fld_QTY</th>\n",
       "      <th>fld_Code</th>\n",
       "      <th>fld_Mod</th>\n",
       "      <th>fld_PaidDate</th>\n",
       "    </tr>\n",
       "  </thead>\n",
       "  <tbody>\n",
       "    <tr>\n",
       "      <th>0</th>\n",
       "      <td>7002E01097</td>\n",
       "      <td>2017-01-02</td>\n",
       "      <td>11134629*01</td>\n",
       "      <td>1978-01-14</td>\n",
       "      <td>M</td>\n",
       "      <td>HH9653*CS08F</td>\n",
       "      <td>P5313276</td>\n",
       "      <td>EMM</td>\n",
       "      <td>1942254347</td>\n",
       "      <td>2017-01-01</td>\n",
       "      <td>2</td>\n",
       "      <td>LAB-FP1</td>\n",
       "      <td>0.0</td>\n",
       "      <td>R10.9</td>\n",
       "      <td>NaN</td>\n",
       "      <td>1</td>\n",
       "      <td>80053</td>\n",
       "      <td>NaN</td>\n",
       "      <td>2017-01-04</td>\n",
       "    </tr>\n",
       "    <tr>\n",
       "      <th>1</th>\n",
       "      <td>7002E01097</td>\n",
       "      <td>2017-01-02</td>\n",
       "      <td>11134629*01</td>\n",
       "      <td>1978-01-14</td>\n",
       "      <td>M</td>\n",
       "      <td>HH9653*CS08F</td>\n",
       "      <td>P5313276</td>\n",
       "      <td>EMM</td>\n",
       "      <td>1942254347</td>\n",
       "      <td>2017-01-01</td>\n",
       "      <td>3</td>\n",
       "      <td>LAB-FP1</td>\n",
       "      <td>0.0</td>\n",
       "      <td>R10.9</td>\n",
       "      <td>NaN</td>\n",
       "      <td>1</td>\n",
       "      <td>83690</td>\n",
       "      <td>NaN</td>\n",
       "      <td>2017-01-04</td>\n",
       "    </tr>\n",
       "    <tr>\n",
       "      <th>2</th>\n",
       "      <td>7002E01097</td>\n",
       "      <td>2017-01-02</td>\n",
       "      <td>11134629*01</td>\n",
       "      <td>1978-01-14</td>\n",
       "      <td>M</td>\n",
       "      <td>HH9653*CS08F</td>\n",
       "      <td>P5313276</td>\n",
       "      <td>EMM</td>\n",
       "      <td>1942254347</td>\n",
       "      <td>2017-01-01</td>\n",
       "      <td>1</td>\n",
       "      <td>LAB-FP1</td>\n",
       "      <td>0.0</td>\n",
       "      <td>R10.9</td>\n",
       "      <td>NaN</td>\n",
       "      <td>1</td>\n",
       "      <td>85025</td>\n",
       "      <td>NaN</td>\n",
       "      <td>2017-01-04</td>\n",
       "    </tr>\n",
       "    <tr>\n",
       "      <th>3</th>\n",
       "      <td>7002E01881</td>\n",
       "      <td>2017-01-02</td>\n",
       "      <td>11906016*02</td>\n",
       "      <td>2013-11-04</td>\n",
       "      <td>F</td>\n",
       "      <td>OR2142*CS05F</td>\n",
       "      <td>A4486702</td>\n",
       "      <td>URG</td>\n",
       "      <td>1730491945</td>\n",
       "      <td>2017-01-01</td>\n",
       "      <td>1</td>\n",
       "      <td>URGCARD$75</td>\n",
       "      <td>0.0</td>\n",
       "      <td>H92.01</td>\n",
       "      <td>NaN</td>\n",
       "      <td>1</td>\n",
       "      <td>S9083</td>\n",
       "      <td>NaN</td>\n",
       "      <td>2017-01-05</td>\n",
       "    </tr>\n",
       "    <tr>\n",
       "      <th>4</th>\n",
       "      <td>7002E15981</td>\n",
       "      <td>2017-01-02</td>\n",
       "      <td>12703460*01</td>\n",
       "      <td>1970-03-06</td>\n",
       "      <td>M</td>\n",
       "      <td>FI9573*CSP07</td>\n",
       "      <td>A782875</td>\n",
       "      <td>DME</td>\n",
       "      <td>1336234194</td>\n",
       "      <td>2017-01-01</td>\n",
       "      <td>1</td>\n",
       "      <td>DME-CT</td>\n",
       "      <td>0.0</td>\n",
       "      <td>G47.33</td>\n",
       "      <td>NaN</td>\n",
       "      <td>1</td>\n",
       "      <td>E0470</td>\n",
       "      <td>RR</td>\n",
       "      <td>2017-01-17</td>\n",
       "    </tr>\n",
       "  </tbody>\n",
       "</table>\n",
       "</div>"
      ],
      "text/plain": [
       "  tbl_Header.fld_ClaimID Received_Date   fld_Member fld_memDOB fld_MemSex  \\\n",
       "0             7002E01097    2017-01-02  11134629*01 1978-01-14          M   \n",
       "1             7002E01097    2017-01-02  11134629*01 1978-01-14          M   \n",
       "2             7002E01097    2017-01-02  11134629*01 1978-01-14          M   \n",
       "3             7002E01881    2017-01-02  11906016*02 2013-11-04          F   \n",
       "4             7002E15981    2017-01-02  12703460*01 1970-03-06          M   \n",
       "\n",
       "     fld_Memgrp fld_Provider fld_Spec     fld_NPI    fld_DOS  \\\n",
       "0  HH9653*CS08F     P5313276      EMM  1942254347 2017-01-01   \n",
       "1  HH9653*CS08F     P5313276      EMM  1942254347 2017-01-01   \n",
       "2  HH9653*CS08F     P5313276      EMM  1942254347 2017-01-01   \n",
       "3  OR2142*CS05F     A4486702      URG  1730491945 2017-01-01   \n",
       "4  FI9573*CSP07      A782875      DME  1336234194 2017-01-01   \n",
       "\n",
       "  fld_ServiceLineNumber fld_Benefit  fld_COB fld_Diag  tbl_Header.fld_POS  \\\n",
       "0                     2     LAB-FP1      0.0    R10.9                 NaN   \n",
       "1                     3     LAB-FP1      0.0    R10.9                 NaN   \n",
       "2                     1     LAB-FP1      0.0    R10.9                 NaN   \n",
       "3                     1  URGCARD$75      0.0   H92.01                 NaN   \n",
       "4                     1      DME-CT      0.0   G47.33                 NaN   \n",
       "\n",
       "   fld_QTY fld_Code fld_Mod fld_PaidDate  \n",
       "0        1    80053     NaN   2017-01-04  \n",
       "1        1    83690     NaN   2017-01-04  \n",
       "2        1    85025     NaN   2017-01-04  \n",
       "3        1    S9083     NaN   2017-01-05  \n",
       "4        1    E0470      RR   2017-01-17  "
      ]
     },
     "execution_count": 201,
     "metadata": {},
     "output_type": "execute_result"
    }
   ],
   "source": [
    "data.head()"
   ]
  },
  {
   "cell_type": "code",
   "execution_count": 202,
   "metadata": {},
   "outputs": [],
   "source": [
    "### Our task is to predict response days based on per claimID\n",
    "### one claim can have multiple claim lines but all other entries are same\n",
    "### so I am considering all these records as duplicate"
   ]
  },
  {
   "cell_type": "code",
   "execution_count": 203,
   "metadata": {},
   "outputs": [],
   "source": [
    "data.drop_duplicates(subset='tbl_Header.fld_ClaimID', inplace=True)"
   ]
  },
  {
   "cell_type": "code",
   "execution_count": 204,
   "metadata": {},
   "outputs": [
    {
     "data": {
      "text/plain": [
       "(13484, 19)"
      ]
     },
     "execution_count": 204,
     "metadata": {},
     "output_type": "execute_result"
    }
   ],
   "source": [
    "data.shape"
   ]
  },
  {
   "cell_type": "code",
   "execution_count": 205,
   "metadata": {},
   "outputs": [
    {
     "data": {
      "text/html": [
       "<div>\n",
       "<style scoped>\n",
       "    .dataframe tbody tr th:only-of-type {\n",
       "        vertical-align: middle;\n",
       "    }\n",
       "\n",
       "    .dataframe tbody tr th {\n",
       "        vertical-align: top;\n",
       "    }\n",
       "\n",
       "    .dataframe thead th {\n",
       "        text-align: right;\n",
       "    }\n",
       "</style>\n",
       "<table border=\"1\" class=\"dataframe\">\n",
       "  <thead>\n",
       "    <tr style=\"text-align: right;\">\n",
       "      <th></th>\n",
       "      <th>tbl_Header.fld_ClaimID</th>\n",
       "      <th>Received_Date</th>\n",
       "      <th>fld_Member</th>\n",
       "      <th>fld_memDOB</th>\n",
       "      <th>fld_MemSex</th>\n",
       "      <th>fld_Memgrp</th>\n",
       "      <th>fld_Provider</th>\n",
       "      <th>fld_Spec</th>\n",
       "      <th>fld_NPI</th>\n",
       "      <th>fld_DOS</th>\n",
       "      <th>fld_ServiceLineNumber</th>\n",
       "      <th>fld_Benefit</th>\n",
       "      <th>fld_COB</th>\n",
       "      <th>fld_Diag</th>\n",
       "      <th>tbl_Header.fld_POS</th>\n",
       "      <th>fld_QTY</th>\n",
       "      <th>fld_Code</th>\n",
       "      <th>fld_Mod</th>\n",
       "      <th>fld_PaidDate</th>\n",
       "    </tr>\n",
       "  </thead>\n",
       "  <tbody>\n",
       "    <tr>\n",
       "      <th>0</th>\n",
       "      <td>7002E01097</td>\n",
       "      <td>2017-01-02</td>\n",
       "      <td>11134629*01</td>\n",
       "      <td>1978-01-14</td>\n",
       "      <td>M</td>\n",
       "      <td>HH9653*CS08F</td>\n",
       "      <td>P5313276</td>\n",
       "      <td>EMM</td>\n",
       "      <td>1942254347</td>\n",
       "      <td>2017-01-01</td>\n",
       "      <td>2</td>\n",
       "      <td>LAB-FP1</td>\n",
       "      <td>0.0</td>\n",
       "      <td>R10.9</td>\n",
       "      <td>NaN</td>\n",
       "      <td>1</td>\n",
       "      <td>80053</td>\n",
       "      <td>NaN</td>\n",
       "      <td>2017-01-04</td>\n",
       "    </tr>\n",
       "    <tr>\n",
       "      <th>3</th>\n",
       "      <td>7002E01881</td>\n",
       "      <td>2017-01-02</td>\n",
       "      <td>11906016*02</td>\n",
       "      <td>2013-11-04</td>\n",
       "      <td>F</td>\n",
       "      <td>OR2142*CS05F</td>\n",
       "      <td>A4486702</td>\n",
       "      <td>URG</td>\n",
       "      <td>1730491945</td>\n",
       "      <td>2017-01-01</td>\n",
       "      <td>1</td>\n",
       "      <td>URGCARD$75</td>\n",
       "      <td>0.0</td>\n",
       "      <td>H92.01</td>\n",
       "      <td>NaN</td>\n",
       "      <td>1</td>\n",
       "      <td>S9083</td>\n",
       "      <td>NaN</td>\n",
       "      <td>2017-01-05</td>\n",
       "    </tr>\n",
       "    <tr>\n",
       "      <th>4</th>\n",
       "      <td>7002E15981</td>\n",
       "      <td>2017-01-02</td>\n",
       "      <td>12703460*01</td>\n",
       "      <td>1970-03-06</td>\n",
       "      <td>M</td>\n",
       "      <td>FI9573*CSP07</td>\n",
       "      <td>A782875</td>\n",
       "      <td>DME</td>\n",
       "      <td>1336234194</td>\n",
       "      <td>2017-01-01</td>\n",
       "      <td>1</td>\n",
       "      <td>DME-CT</td>\n",
       "      <td>0.0</td>\n",
       "      <td>G47.33</td>\n",
       "      <td>NaN</td>\n",
       "      <td>1</td>\n",
       "      <td>E0470</td>\n",
       "      <td>RR</td>\n",
       "      <td>2017-01-17</td>\n",
       "    </tr>\n",
       "    <tr>\n",
       "      <th>5</th>\n",
       "      <td>7002E16101</td>\n",
       "      <td>2017-01-02</td>\n",
       "      <td>10269262*04</td>\n",
       "      <td>2014-07-18</td>\n",
       "      <td>M</td>\n",
       "      <td>RC1343*CSP11</td>\n",
       "      <td>ANC309</td>\n",
       "      <td>HOI</td>\n",
       "      <td>1417915653</td>\n",
       "      <td>2017-01-01</td>\n",
       "      <td>1</td>\n",
       "      <td>CHEMO/FP1</td>\n",
       "      <td>0.0</td>\n",
       "      <td>E75.22</td>\n",
       "      <td>NaN</td>\n",
       "      <td>40</td>\n",
       "      <td>J1786</td>\n",
       "      <td>NaN</td>\n",
       "      <td>2017-01-17</td>\n",
       "    </tr>\n",
       "    <tr>\n",
       "      <th>7</th>\n",
       "      <td>7002E16554</td>\n",
       "      <td>2017-01-02</td>\n",
       "      <td>12159503*03</td>\n",
       "      <td>1999-07-06</td>\n",
       "      <td>M</td>\n",
       "      <td>CA25487*CSP01</td>\n",
       "      <td>A3616500</td>\n",
       "      <td>URG</td>\n",
       "      <td>1578522595</td>\n",
       "      <td>2017-01-01</td>\n",
       "      <td>1</td>\n",
       "      <td>URGCAR40M</td>\n",
       "      <td>0.0</td>\n",
       "      <td>R05</td>\n",
       "      <td>NaN</td>\n",
       "      <td>1</td>\n",
       "      <td>S9083</td>\n",
       "      <td>NaN</td>\n",
       "      <td>2017-01-17</td>\n",
       "    </tr>\n",
       "  </tbody>\n",
       "</table>\n",
       "</div>"
      ],
      "text/plain": [
       "  tbl_Header.fld_ClaimID Received_Date   fld_Member fld_memDOB fld_MemSex  \\\n",
       "0             7002E01097    2017-01-02  11134629*01 1978-01-14          M   \n",
       "3             7002E01881    2017-01-02  11906016*02 2013-11-04          F   \n",
       "4             7002E15981    2017-01-02  12703460*01 1970-03-06          M   \n",
       "5             7002E16101    2017-01-02  10269262*04 2014-07-18          M   \n",
       "7             7002E16554    2017-01-02  12159503*03 1999-07-06          M   \n",
       "\n",
       "      fld_Memgrp fld_Provider fld_Spec     fld_NPI    fld_DOS  \\\n",
       "0   HH9653*CS08F     P5313276      EMM  1942254347 2017-01-01   \n",
       "3   OR2142*CS05F     A4486702      URG  1730491945 2017-01-01   \n",
       "4   FI9573*CSP07      A782875      DME  1336234194 2017-01-01   \n",
       "5   RC1343*CSP11       ANC309      HOI  1417915653 2017-01-01   \n",
       "7  CA25487*CSP01     A3616500      URG  1578522595 2017-01-01   \n",
       "\n",
       "  fld_ServiceLineNumber fld_Benefit  fld_COB fld_Diag  tbl_Header.fld_POS  \\\n",
       "0                     2     LAB-FP1      0.0    R10.9                 NaN   \n",
       "3                     1  URGCARD$75      0.0   H92.01                 NaN   \n",
       "4                     1      DME-CT      0.0   G47.33                 NaN   \n",
       "5                     1   CHEMO/FP1      0.0   E75.22                 NaN   \n",
       "7                     1   URGCAR40M      0.0      R05                 NaN   \n",
       "\n",
       "   fld_QTY fld_Code fld_Mod fld_PaidDate  \n",
       "0        1    80053     NaN   2017-01-04  \n",
       "3        1    S9083     NaN   2017-01-05  \n",
       "4        1    E0470      RR   2017-01-17  \n",
       "5       40    J1786     NaN   2017-01-17  \n",
       "7        1    S9083     NaN   2017-01-17  "
      ]
     },
     "execution_count": 205,
     "metadata": {},
     "output_type": "execute_result"
    }
   ],
   "source": [
    "data.head()"
   ]
  },
  {
   "cell_type": "code",
   "execution_count": 206,
   "metadata": {},
   "outputs": [
    {
     "name": "stdout",
     "output_type": "stream",
     "text": [
      "<class 'pandas.core.frame.DataFrame'>\n",
      "Int64Index: 13484 entries, 0 to 65501\n",
      "Data columns (total 19 columns):\n",
      "tbl_Header.fld_ClaimID    13484 non-null object\n",
      "Received_Date             13484 non-null datetime64[ns]\n",
      "fld_Member                13484 non-null object\n",
      "fld_memDOB                13484 non-null datetime64[ns]\n",
      "fld_MemSex                13484 non-null object\n",
      "fld_Memgrp                13484 non-null object\n",
      "fld_Provider              13484 non-null object\n",
      "fld_Spec                  13484 non-null object\n",
      "fld_NPI                   13455 non-null object\n",
      "fld_DOS                   13484 non-null datetime64[ns]\n",
      "fld_ServiceLineNumber     13474 non-null object\n",
      "fld_Benefit               13359 non-null object\n",
      "fld_COB                   13484 non-null float64\n",
      "fld_Diag                  13484 non-null object\n",
      "tbl_Header.fld_POS        0 non-null float64\n",
      "fld_QTY                   13484 non-null int64\n",
      "fld_Code                  13484 non-null object\n",
      "fld_Mod                   2794 non-null object\n",
      "fld_PaidDate              13484 non-null datetime64[ns]\n",
      "dtypes: datetime64[ns](4), float64(2), int64(1), object(12)\n",
      "memory usage: 2.1+ MB\n"
     ]
    }
   ],
   "source": [
    "data.info()"
   ]
  },
  {
   "cell_type": "code",
   "execution_count": 207,
   "metadata": {},
   "outputs": [
    {
     "data": {
      "text/plain": [
       "0     2\n",
       "3     3\n",
       "4    15\n",
       "5    15\n",
       "7    15\n",
       "Name: response_days, dtype: int64"
      ]
     },
     "execution_count": 207,
     "metadata": {},
     "output_type": "execute_result"
    }
   ],
   "source": [
    "## Let's introduce new column : response_days\n",
    "\n",
    "data['response_days']= (data['fld_PaidDate'] - data['Received_Date']).dt.days\n",
    "data['response_days'].head()"
   ]
  },
  {
   "cell_type": "code",
   "execution_count": 208,
   "metadata": {},
   "outputs": [
    {
     "data": {
      "text/plain": [
       "tbl_Header.fld_ClaimID        0\n",
       "Received_Date                 0\n",
       "fld_Member                    0\n",
       "fld_memDOB                    0\n",
       "fld_MemSex                    0\n",
       "fld_Memgrp                    0\n",
       "fld_Provider                  0\n",
       "fld_Spec                      0\n",
       "fld_NPI                      29\n",
       "fld_DOS                       0\n",
       "fld_ServiceLineNumber        10\n",
       "fld_Benefit                 125\n",
       "fld_COB                       0\n",
       "fld_Diag                      0\n",
       "tbl_Header.fld_POS        13484\n",
       "fld_QTY                       0\n",
       "fld_Code                      0\n",
       "fld_Mod                   10690\n",
       "fld_PaidDate                  0\n",
       "response_days                 0\n",
       "dtype: int64"
      ]
     },
     "execution_count": 208,
     "metadata": {},
     "output_type": "execute_result"
    }
   ],
   "source": [
    "data.isnull().sum()"
   ]
  },
  {
   "cell_type": "markdown",
   "metadata": {},
   "source": [
    "## Let's handle NULL values "
   ]
  },
  {
   "cell_type": "code",
   "execution_count": 209,
   "metadata": {},
   "outputs": [],
   "source": [
    "data = data.drop(['tbl_Header.fld_POS','fld_Mod','fld_PaidDate','fld_ServiceLineNumber'],axis=1)"
   ]
  },
  {
   "cell_type": "code",
   "execution_count": 210,
   "metadata": {},
   "outputs": [
    {
     "data": {
      "text/plain": [
       "0"
      ]
     },
     "execution_count": 210,
     "metadata": {},
     "output_type": "execute_result"
    }
   ],
   "source": [
    "# fld_NPI column has 29 Null values. Let's handle that\n",
    "# filling NULL values with most fequent value\n",
    "\n",
    "data['fld_NPI'].fillna(data['fld_NPI'].value_counts().index[0], inplace =True)\n",
    "data['fld_NPI'].isnull().sum()"
   ]
  },
  {
   "cell_type": "code",
   "execution_count": 211,
   "metadata": {},
   "outputs": [
    {
     "data": {
      "text/plain": [
       "0"
      ]
     },
     "execution_count": 211,
     "metadata": {},
     "output_type": "execute_result"
    }
   ],
   "source": [
    "data['fld_Benefit'].fillna(data['fld_Benefit'].value_counts().index[0], inplace =True)\n",
    "data['fld_Benefit'].isnull().sum()"
   ]
  },
  {
   "cell_type": "code",
   "execution_count": 212,
   "metadata": {},
   "outputs": [
    {
     "data": {
      "text/plain": [
       "tbl_Header.fld_ClaimID    0\n",
       "Received_Date             0\n",
       "fld_Member                0\n",
       "fld_memDOB                0\n",
       "fld_MemSex                0\n",
       "fld_Memgrp                0\n",
       "fld_Provider              0\n",
       "fld_Spec                  0\n",
       "fld_NPI                   0\n",
       "fld_DOS                   0\n",
       "fld_Benefit               0\n",
       "fld_COB                   0\n",
       "fld_Diag                  0\n",
       "fld_QTY                   0\n",
       "fld_Code                  0\n",
       "response_days             0\n",
       "dtype: int64"
      ]
     },
     "execution_count": 212,
     "metadata": {},
     "output_type": "execute_result"
    }
   ],
   "source": [
    "data.isnull().sum()"
   ]
  },
  {
   "cell_type": "code",
   "execution_count": 213,
   "metadata": {},
   "outputs": [],
   "source": [
    "# Most of our columns is coming as object datatype.. "
   ]
  },
  {
   "cell_type": "markdown",
   "metadata": {},
   "source": [
    "### tbl_Header.fld_ClaimID\n",
    "\n",
    "Most of the values in this column are of length 10 and few are more than that..\n",
    "Let's try to find out those values and prune it to length 10"
   ]
  },
  {
   "cell_type": "code",
   "execution_count": 215,
   "metadata": {},
   "outputs": [
    {
     "name": "stdout",
     "output_type": "stream",
     "text": [
      "7005E1904B1\n",
      "7005E1952B1\n",
      "7010E7407B1\n",
      "7013E0486B1\n",
      "7016E0325B1\n",
      "701821067B1\n",
      "701821111C1\n",
      "7020E1210B1\n",
      "7020E2353B1\n",
      "7020E2427B1\n",
      "702120863B1\n",
      "7023E1887B1\n",
      "7023E2120B1\n",
      "7024E0359B1\n",
      "7024E1998B1\n",
      "7026E1931B1\n",
      "703110439B1\n",
      "7032E3193B1\n",
      "7032E5931B1\n",
      "7032E7882B1\n",
      "7034E1641B1\n",
      "7037E1330B1\n"
     ]
    }
   ],
   "source": [
    "sum = 0\n",
    "for row in data['tbl_Header.fld_ClaimID']:\n",
    "    if len(row)==11 :\n",
    "        #sum = sum+1\n",
    "        print(row)\n",
    "\n",
    "#print(sum)     "
   ]
  },
  {
   "cell_type": "code",
   "execution_count": 216,
   "metadata": {},
   "outputs": [],
   "source": [
    "data['tbl_Header.fld_ClaimID']=data['tbl_Header.fld_ClaimID'].apply(lambda x: x[:-1] if len(x)==11 else x)"
   ]
  },
  {
   "cell_type": "code",
   "execution_count": 217,
   "metadata": {},
   "outputs": [
    {
     "name": "stdout",
     "output_type": "stream",
     "text": [
      "13484\n"
     ]
    }
   ],
   "source": [
    "sum = 0\n",
    "for row in data['tbl_Header.fld_ClaimID']:\n",
    "    if row.isalnum() :\n",
    "        sum = sum+1\n",
    "\n",
    "print(sum)"
   ]
  },
  {
   "cell_type": "code",
   "execution_count": 218,
   "metadata": {},
   "outputs": [],
   "source": [
    "# As we have all columns as alphanumeric, i am converting this column to Category type\n",
    "\n",
    "data['tbl_Header.fld_ClaimID'] =data['tbl_Header.fld_ClaimID'].astype('category')"
   ]
  },
  {
   "cell_type": "code",
   "execution_count": 219,
   "metadata": {},
   "outputs": [
    {
     "name": "stdout",
     "output_type": "stream",
     "text": [
      "<class 'pandas.core.frame.DataFrame'>\n",
      "Int64Index: 13484 entries, 0 to 65501\n",
      "Data columns (total 16 columns):\n",
      "tbl_Header.fld_ClaimID    13484 non-null category\n",
      "Received_Date             13484 non-null datetime64[ns]\n",
      "fld_Member                13484 non-null object\n",
      "fld_memDOB                13484 non-null datetime64[ns]\n",
      "fld_MemSex                13484 non-null object\n",
      "fld_Memgrp                13484 non-null object\n",
      "fld_Provider              13484 non-null object\n",
      "fld_Spec                  13484 non-null object\n",
      "fld_NPI                   13484 non-null int64\n",
      "fld_DOS                   13484 non-null datetime64[ns]\n",
      "fld_Benefit               13484 non-null object\n",
      "fld_COB                   13484 non-null float64\n",
      "fld_Diag                  13484 non-null object\n",
      "fld_QTY                   13484 non-null int64\n",
      "fld_Code                  13484 non-null object\n",
      "response_days             13484 non-null int64\n",
      "dtypes: category(1), datetime64[ns](3), float64(1), int64(3), object(8)\n",
      "memory usage: 2.4+ MB\n"
     ]
    }
   ],
   "source": [
    "data.info()"
   ]
  },
  {
   "cell_type": "markdown",
   "metadata": {},
   "source": [
    "### Replacing unwanted character and changing datatype"
   ]
  },
  {
   "cell_type": "code",
   "execution_count": 220,
   "metadata": {},
   "outputs": [],
   "source": [
    "data['fld_Member'] = data['fld_Member'].str.replace('*','') \n",
    "data['fld_Member'] = data['fld_Member'].astype(int)\n",
    "\n",
    "data['fld_Memgrp']= data['fld_Memgrp'].str.replace('*','') \n",
    "data['fld_Memgrp']= data['fld_Memgrp'].astype('category')\n"
   ]
  },
  {
   "cell_type": "code",
   "execution_count": 221,
   "metadata": {},
   "outputs": [],
   "source": [
    "data['fld_MemSex']= data['fld_MemSex'].astype('category')"
   ]
  },
  {
   "cell_type": "code",
   "execution_count": 222,
   "metadata": {},
   "outputs": [],
   "source": [
    "data['fld_Provider']= data['fld_Provider'].astype('category')\n",
    "data['fld_Spec']= data['fld_Spec'].astype('category')\n",
    "data['fld_Code']= data['fld_Code'].astype('category')"
   ]
  },
  {
   "cell_type": "markdown",
   "metadata": {},
   "source": [
    "### Identifying dependent and independent features\n",
    "\n",
    "I am dropping 'fld_Provider' and 'fld_Code' columns as it's throwing some error while converting \n",
    "object type to category"
   ]
  },
  {
   "cell_type": "code",
   "execution_count": 233,
   "metadata": {},
   "outputs": [],
   "source": [
    "X = data.drop(['response_days','fld_Provider','fld_Code'],axis=1)\n",
    "y = data['response_days']"
   ]
  },
  {
   "cell_type": "markdown",
   "metadata": {},
   "source": [
    "## Encoding and scaling features"
   ]
  },
  {
   "cell_type": "code",
   "execution_count": 234,
   "metadata": {},
   "outputs": [],
   "source": [
    "lblEncoder = LabelEncoder()\n",
    "X = X.apply(lblEncoder.fit_transform)\n",
    "\n",
    "stdScaler = StandardScaler()\n",
    "X = stdScaler.fit_transform(X)"
   ]
  },
  {
   "cell_type": "code",
   "execution_count": 235,
   "metadata": {},
   "outputs": [],
   "source": [
    "pca = PCA().fit(X)"
   ]
  },
  {
   "cell_type": "code",
   "execution_count": 236,
   "metadata": {},
   "outputs": [
    {
     "data": {
      "image/png": "[encoded data removed]",
      "text/plain": [
       "<Figure size 432x288 with 1 Axes>"
      ]
     },
     "metadata": {},
     "output_type": "display_data"
    }
   ],
   "source": [
    "features = range(pca.n_components_)\n",
    "plt.bar(features, pca.explained_variance_)\n",
    "plt.xlabel('PCA features')\n",
    "plt.ylabel('variance')\n",
    "plt.show()"
   ]
  },
  {
   "cell_type": "code",
   "execution_count": 237,
   "metadata": {},
   "outputs": [],
   "source": [
    "X = PCA(n_components=10).fit_transform(X)"
   ]
  },
  {
   "cell_type": "markdown",
   "metadata": {},
   "source": [
    "## Train Test & Split"
   ]
  },
  {
   "cell_type": "code",
   "execution_count": 238,
   "metadata": {},
   "outputs": [],
   "source": [
    "X_train, X_test, y_train, y_test = train_test_split(X, y, test_size=0.3, random_state=0)"
   ]
  },
  {
   "cell_type": "markdown",
   "metadata": {},
   "source": [
    "### DecisionTreeRegressor with GridSearchCV"
   ]
  },
  {
   "cell_type": "code",
   "execution_count": 239,
   "metadata": {},
   "outputs": [
    {
     "data": {
      "text/plain": [
       "GridSearchCV(cv=3, error_score='raise',\n",
       "       estimator=DecisionTreeRegressor(criterion='mse', max_depth=None, max_features=None,\n",
       "           max_leaf_nodes=None, min_impurity_decrease=0.0,\n",
       "           min_impurity_split=None, min_samples_leaf=1,\n",
       "           min_samples_split=2, min_weight_fraction_leaf=0.0,\n",
       "           presort=False, random_state=0, splitter='best'),\n",
       "       fit_params=None, iid=True, n_jobs=1,\n",
       "       param_grid={'max_depth': range(1, 10)}, pre_dispatch='2*n_jobs',\n",
       "       refit=True, return_train_score='warn', scoring=None, verbose=0)"
      ]
     },
     "execution_count": 239,
     "metadata": {},
     "output_type": "execute_result"
    }
   ],
   "source": [
    "dtree = DecisionTreeRegressor(random_state=0)\n",
    "\n",
    "param_grid ={'max_depth' : range(1,10)}\n",
    "\n",
    "dtree_cv = GridSearchCV(dtree, param_grid, cv=3)\n",
    "dtree_cv.fit(X_train, y_train)"
   ]
  },
  {
   "cell_type": "code",
   "execution_count": 240,
   "metadata": {},
   "outputs": [
    {
     "name": "stdout",
     "output_type": "stream",
     "text": [
      "The best param of Decision Tree Regressor:{'max_depth': 1}\n",
      "The score of Decision Tree Regressor:0.0008800014092720614\n"
     ]
    },
    {
     "data": {
      "text/plain": [
       "DecisionTreeRegressor(criterion='mse', max_depth=1, max_features=None,\n",
       "           max_leaf_nodes=None, min_impurity_decrease=0.0,\n",
       "           min_impurity_split=None, min_samples_leaf=1,\n",
       "           min_samples_split=2, min_weight_fraction_leaf=0.0,\n",
       "           presort=False, random_state=0, splitter='best')"
      ]
     },
     "execution_count": 240,
     "metadata": {},
     "output_type": "execute_result"
    }
   ],
   "source": [
    "print(\"The best param of Decision Tree Regressor:{}\".format(dtree_cv.best_params_))\n",
    "print(\"The score of Decision Tree Regressor:{}\".format(dtree_cv.best_score_))\n",
    "dtree_cv.best_estimator_"
   ]
  },
  {
   "cell_type": "markdown",
   "metadata": {},
   "source": [
    "## Prediction and scoring"
   ]
  },
  {
   "cell_type": "code",
   "execution_count": 241,
   "metadata": {},
   "outputs": [],
   "source": [
    "y_pred = dtree_cv.predict(X_test)"
   ]
  },
  {
   "cell_type": "code",
   "execution_count": 242,
   "metadata": {},
   "outputs": [
    {
     "name": "stdout",
     "output_type": "stream",
     "text": [
      "DecisionTreeRegressor score:0.003642426502410978\n",
      "Mean absolute error:4.982890910403336\n"
     ]
    }
   ],
   "source": [
    "print(\"DecisionTreeRegressor score:{}\".format(dtree_cv.score(X_train, y_train)))\n",
    "print(\"Mean absolute error:{}\".format(mean_absolute_error(y_pred, y_test)))"
   ]
  },
  {
   "cell_type": "code",
   "execution_count": null,
   "metadata": {},
   "outputs": [],
   "source": []
  }
 ],
 "metadata": {
  "kernelspec": {
   "display_name": "Python 3",
   "language": "python",
   "name": "python3"
  },
  "language_info": {
   "codemirror_mode": {
    "name": "ipython",
    "version": 3
   },
   "file_extension": ".py",
   "mimetype": "text/x-python",
   "name": "python",
   "nbconvert_exporter": "python",
   "pygments_lexer": "ipython3",
   "version": "3.6.5"
  }
 },
 "nbformat": 4,
 "nbformat_minor": 2
}
