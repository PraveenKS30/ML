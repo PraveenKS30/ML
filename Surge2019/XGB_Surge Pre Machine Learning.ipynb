{
 "cells": [
  {
   "cell_type": "code",
   "execution_count": 1,
   "metadata": {},
   "outputs": [],
   "source": [
    "import pandas as pd\n",
    "from sklearn.preprocessing import StandardScaler\n",
    "from sklearn.model_selection import train_test_split\n",
    "from sklearn.metrics import confusion_matrix, classification_report\n",
    "from sklearn.metrics import roc_curve, auc, roc_auc_score\n",
    "from imblearn.over_sampling import SMOTE\n",
    "from imblearn.under_sampling import RandomUnderSampler\n",
    "from sklearn.svm import SVC\n",
    "from sklearn.ensemble import RandomForestClassifier\n",
    "from xgboost import XGBClassifier\n",
    "from sklearn.model_selection import GridSearchCV"
   ]
  },
  {
   "cell_type": "code",
   "execution_count": 2,
   "metadata": {},
   "outputs": [],
   "source": [
    "## Models to try \n",
    "# SVC with balanced \n",
    "# SMOTE with SVC\n",
    "# GridSearchCV with SVC\n",
    "# Random Classifier\n",
    "# Boosting -- XGBoost"
   ]
  },
  {
   "cell_type": "code",
   "execution_count": 3,
   "metadata": {},
   "outputs": [],
   "source": [
    "train = pd.read_csv(\"trainingData.csv\")"
   ]
  },
  {
   "cell_type": "code",
   "execution_count": 4,
   "metadata": {},
   "outputs": [
    {
     "data": {
      "text/html": [
       "<div>\n",
       "<style scoped>\n",
       "    .dataframe tbody tr th:only-of-type {\n",
       "        vertical-align: middle;\n",
       "    }\n",
       "\n",
       "    .dataframe tbody tr th {\n",
       "        vertical-align: top;\n",
       "    }\n",
       "\n",
       "    .dataframe thead th {\n",
       "        text-align: right;\n",
       "    }\n",
       "</style>\n",
       "<table border=\"1\" class=\"dataframe\">\n",
       "  <thead>\n",
       "    <tr style=\"text-align: right;\">\n",
       "      <th></th>\n",
       "      <th>testindex</th>\n",
       "      <th>outcome</th>\n",
       "      <th>distance</th>\n",
       "      <th>visit_count</th>\n",
       "      <th>claims_daysaway</th>\n",
       "      <th>tier</th>\n",
       "      <th>fqhc</th>\n",
       "      <th>pcp_lookback</th>\n",
       "      <th>family_assignment</th>\n",
       "      <th>kid</th>\n",
       "      <th>is_ped</th>\n",
       "      <th>same_gender</th>\n",
       "      <th>same_language</th>\n",
       "      <th>same_address</th>\n",
       "    </tr>\n",
       "  </thead>\n",
       "  <tbody>\n",
       "    <tr>\n",
       "      <th>0</th>\n",
       "      <td>0</td>\n",
       "      <td>0</td>\n",
       "      <td>0.071912</td>\n",
       "      <td>0</td>\n",
       "      <td>NaN</td>\n",
       "      <td>2.0</td>\n",
       "      <td>0</td>\n",
       "      <td>0</td>\n",
       "      <td>0</td>\n",
       "      <td>0</td>\n",
       "      <td>0</td>\n",
       "      <td>1</td>\n",
       "      <td>0</td>\n",
       "      <td>0</td>\n",
       "    </tr>\n",
       "    <tr>\n",
       "      <th>1</th>\n",
       "      <td>2</td>\n",
       "      <td>0</td>\n",
       "      <td>0.448447</td>\n",
       "      <td>0</td>\n",
       "      <td>NaN</td>\n",
       "      <td>1.0</td>\n",
       "      <td>0</td>\n",
       "      <td>0</td>\n",
       "      <td>1</td>\n",
       "      <td>1</td>\n",
       "      <td>1</td>\n",
       "      <td>0</td>\n",
       "      <td>0</td>\n",
       "      <td>0</td>\n",
       "    </tr>\n",
       "    <tr>\n",
       "      <th>2</th>\n",
       "      <td>5</td>\n",
       "      <td>0</td>\n",
       "      <td>0.345793</td>\n",
       "      <td>0</td>\n",
       "      <td>NaN</td>\n",
       "      <td>1.0</td>\n",
       "      <td>0</td>\n",
       "      <td>1</td>\n",
       "      <td>0</td>\n",
       "      <td>0</td>\n",
       "      <td>0</td>\n",
       "      <td>1</td>\n",
       "      <td>0</td>\n",
       "      <td>0</td>\n",
       "    </tr>\n",
       "    <tr>\n",
       "      <th>3</th>\n",
       "      <td>6</td>\n",
       "      <td>0</td>\n",
       "      <td>1.857032</td>\n",
       "      <td>0</td>\n",
       "      <td>NaN</td>\n",
       "      <td>1.0</td>\n",
       "      <td>0</td>\n",
       "      <td>0</td>\n",
       "      <td>1</td>\n",
       "      <td>1</td>\n",
       "      <td>1</td>\n",
       "      <td>1</td>\n",
       "      <td>0</td>\n",
       "      <td>0</td>\n",
       "    </tr>\n",
       "    <tr>\n",
       "      <th>4</th>\n",
       "      <td>7</td>\n",
       "      <td>1</td>\n",
       "      <td>7.222060</td>\n",
       "      <td>0</td>\n",
       "      <td>NaN</td>\n",
       "      <td>1.0</td>\n",
       "      <td>0</td>\n",
       "      <td>0</td>\n",
       "      <td>1</td>\n",
       "      <td>1</td>\n",
       "      <td>0</td>\n",
       "      <td>0</td>\n",
       "      <td>0</td>\n",
       "      <td>0</td>\n",
       "    </tr>\n",
       "  </tbody>\n",
       "</table>\n",
       "</div>"
      ],
      "text/plain": [
       "   testindex  outcome  distance  visit_count  claims_daysaway  tier  fqhc  \\\n",
       "0          0        0  0.071912            0              NaN   2.0     0   \n",
       "1          2        0  0.448447            0              NaN   1.0     0   \n",
       "2          5        0  0.345793            0              NaN   1.0     0   \n",
       "3          6        0  1.857032            0              NaN   1.0     0   \n",
       "4          7        1  7.222060            0              NaN   1.0     0   \n",
       "\n",
       "   pcp_lookback  family_assignment  kid  is_ped  same_gender  same_language  \\\n",
       "0             0                  0    0       0            1              0   \n",
       "1             0                  1    1       1            0              0   \n",
       "2             1                  0    0       0            1              0   \n",
       "3             0                  1    1       1            1              0   \n",
       "4             0                  1    1       0            0              0   \n",
       "\n",
       "   same_address  \n",
       "0             0  \n",
       "1             0  \n",
       "2             0  \n",
       "3             0  \n",
       "4             0  "
      ]
     },
     "execution_count": 4,
     "metadata": {},
     "output_type": "execute_result"
    }
   ],
   "source": [
    "train.head()"
   ]
  },
  {
   "cell_type": "code",
   "execution_count": 5,
   "metadata": {},
   "outputs": [
    {
     "data": {
      "text/html": [
       "<div>\n",
       "<style scoped>\n",
       "    .dataframe tbody tr th:only-of-type {\n",
       "        vertical-align: middle;\n",
       "    }\n",
       "\n",
       "    .dataframe tbody tr th {\n",
       "        vertical-align: top;\n",
       "    }\n",
       "\n",
       "    .dataframe thead th {\n",
       "        text-align: right;\n",
       "    }\n",
       "</style>\n",
       "<table border=\"1\" class=\"dataframe\">\n",
       "  <thead>\n",
       "    <tr style=\"text-align: right;\">\n",
       "      <th></th>\n",
       "      <th>distance</th>\n",
       "      <th>visit_count</th>\n",
       "      <th>claims_daysaway</th>\n",
       "      <th>tier</th>\n",
       "      <th>fqhc</th>\n",
       "      <th>pcp_lookback</th>\n",
       "      <th>family_assignment</th>\n",
       "      <th>kid</th>\n",
       "      <th>is_ped</th>\n",
       "      <th>same_gender</th>\n",
       "      <th>same_language</th>\n",
       "      <th>same_address</th>\n",
       "    </tr>\n",
       "  </thead>\n",
       "  <tbody>\n",
       "    <tr>\n",
       "      <th>count</th>\n",
       "      <td>166573.000000</td>\n",
       "      <td>166573.000000</td>\n",
       "      <td>29417.000000</td>\n",
       "      <td>166054.000000</td>\n",
       "      <td>166573.000000</td>\n",
       "      <td>166573.000000</td>\n",
       "      <td>166573.000000</td>\n",
       "      <td>166573.000000</td>\n",
       "      <td>166573.000000</td>\n",
       "      <td>166573.000000</td>\n",
       "      <td>166573.000000</td>\n",
       "      <td>166573.000000</td>\n",
       "    </tr>\n",
       "    <tr>\n",
       "      <th>mean</th>\n",
       "      <td>2.818446</td>\n",
       "      <td>1.063732</td>\n",
       "      <td>140.967434</td>\n",
       "      <td>1.790068</td>\n",
       "      <td>0.187930</td>\n",
       "      <td>0.442449</td>\n",
       "      <td>0.331812</td>\n",
       "      <td>0.373062</td>\n",
       "      <td>0.390003</td>\n",
       "      <td>0.508822</td>\n",
       "      <td>0.064884</td>\n",
       "      <td>0.062753</td>\n",
       "    </tr>\n",
       "    <tr>\n",
       "      <th>std</th>\n",
       "      <td>5.636061</td>\n",
       "      <td>3.217193</td>\n",
       "      <td>126.741228</td>\n",
       "      <td>0.971943</td>\n",
       "      <td>0.390657</td>\n",
       "      <td>0.496678</td>\n",
       "      <td>0.470865</td>\n",
       "      <td>0.483620</td>\n",
       "      <td>0.487752</td>\n",
       "      <td>0.499924</td>\n",
       "      <td>0.246323</td>\n",
       "      <td>0.242519</td>\n",
       "    </tr>\n",
       "    <tr>\n",
       "      <th>min</th>\n",
       "      <td>0.000000</td>\n",
       "      <td>0.000000</td>\n",
       "      <td>0.000000</td>\n",
       "      <td>1.000000</td>\n",
       "      <td>0.000000</td>\n",
       "      <td>0.000000</td>\n",
       "      <td>0.000000</td>\n",
       "      <td>0.000000</td>\n",
       "      <td>0.000000</td>\n",
       "      <td>0.000000</td>\n",
       "      <td>0.000000</td>\n",
       "      <td>0.000000</td>\n",
       "    </tr>\n",
       "    <tr>\n",
       "      <th>25%</th>\n",
       "      <td>0.474260</td>\n",
       "      <td>0.000000</td>\n",
       "      <td>49.000000</td>\n",
       "      <td>1.000000</td>\n",
       "      <td>0.000000</td>\n",
       "      <td>0.000000</td>\n",
       "      <td>0.000000</td>\n",
       "      <td>0.000000</td>\n",
       "      <td>0.000000</td>\n",
       "      <td>0.000000</td>\n",
       "      <td>0.000000</td>\n",
       "      <td>0.000000</td>\n",
       "    </tr>\n",
       "    <tr>\n",
       "      <th>50%</th>\n",
       "      <td>1.065102</td>\n",
       "      <td>0.000000</td>\n",
       "      <td>105.000000</td>\n",
       "      <td>1.000000</td>\n",
       "      <td>0.000000</td>\n",
       "      <td>0.000000</td>\n",
       "      <td>0.000000</td>\n",
       "      <td>0.000000</td>\n",
       "      <td>0.000000</td>\n",
       "      <td>1.000000</td>\n",
       "      <td>0.000000</td>\n",
       "      <td>0.000000</td>\n",
       "    </tr>\n",
       "    <tr>\n",
       "      <th>75%</th>\n",
       "      <td>2.227714</td>\n",
       "      <td>0.000000</td>\n",
       "      <td>191.000000</td>\n",
       "      <td>2.000000</td>\n",
       "      <td>0.000000</td>\n",
       "      <td>1.000000</td>\n",
       "      <td>1.000000</td>\n",
       "      <td>1.000000</td>\n",
       "      <td>1.000000</td>\n",
       "      <td>1.000000</td>\n",
       "      <td>0.000000</td>\n",
       "      <td>0.000000</td>\n",
       "    </tr>\n",
       "    <tr>\n",
       "      <th>max</th>\n",
       "      <td>50.000000</td>\n",
       "      <td>108.000000</td>\n",
       "      <td>749.000000</td>\n",
       "      <td>4.000000</td>\n",
       "      <td>1.000000</td>\n",
       "      <td>1.000000</td>\n",
       "      <td>1.000000</td>\n",
       "      <td>1.000000</td>\n",
       "      <td>1.000000</td>\n",
       "      <td>1.000000</td>\n",
       "      <td>1.000000</td>\n",
       "      <td>1.000000</td>\n",
       "    </tr>\n",
       "  </tbody>\n",
       "</table>\n",
       "</div>"
      ],
      "text/plain": [
       "            distance    visit_count  claims_daysaway           tier  \\\n",
       "count  166573.000000  166573.000000     29417.000000  166054.000000   \n",
       "mean        2.818446       1.063732       140.967434       1.790068   \n",
       "std         5.636061       3.217193       126.741228       0.971943   \n",
       "min         0.000000       0.000000         0.000000       1.000000   \n",
       "25%         0.474260       0.000000        49.000000       1.000000   \n",
       "50%         1.065102       0.000000       105.000000       1.000000   \n",
       "75%         2.227714       0.000000       191.000000       2.000000   \n",
       "max        50.000000     108.000000       749.000000       4.000000   \n",
       "\n",
       "                fqhc   pcp_lookback  family_assignment            kid  \\\n",
       "count  166573.000000  166573.000000      166573.000000  166573.000000   \n",
       "mean        0.187930       0.442449           0.331812       0.373062   \n",
       "std         0.390657       0.496678           0.470865       0.483620   \n",
       "min         0.000000       0.000000           0.000000       0.000000   \n",
       "25%         0.000000       0.000000           0.000000       0.000000   \n",
       "50%         0.000000       0.000000           0.000000       0.000000   \n",
       "75%         0.000000       1.000000           1.000000       1.000000   \n",
       "max         1.000000       1.000000           1.000000       1.000000   \n",
       "\n",
       "              is_ped    same_gender  same_language   same_address  \n",
       "count  166573.000000  166573.000000  166573.000000  166573.000000  \n",
       "mean        0.390003       0.508822       0.064884       0.062753  \n",
       "std         0.487752       0.499924       0.246323       0.242519  \n",
       "min         0.000000       0.000000       0.000000       0.000000  \n",
       "25%         0.000000       0.000000       0.000000       0.000000  \n",
       "50%         0.000000       1.000000       0.000000       0.000000  \n",
       "75%         1.000000       1.000000       0.000000       0.000000  \n",
       "max         1.000000       1.000000       1.000000       1.000000  "
      ]
     },
     "execution_count": 5,
     "metadata": {},
     "output_type": "execute_result"
    }
   ],
   "source": [
    "train.drop(['testindex','outcome'], axis =1).describe()"
   ]
  },
  {
   "cell_type": "code",
   "execution_count": 9,
   "metadata": {},
   "outputs": [
    {
     "name": "stdout",
     "output_type": "stream",
     "text": [
      "<class 'pandas.core.frame.DataFrame'>\n",
      "RangeIndex: 166573 entries, 0 to 166572\n",
      "Data columns (total 14 columns):\n",
      "testindex            166573 non-null int64\n",
      "outcome              166573 non-null int64\n",
      "distance             166573 non-null float64\n",
      "visit_count          166573 non-null int64\n",
      "claims_daysaway      29417 non-null float64\n",
      "tier                 166573 non-null float64\n",
      "fqhc                 166573 non-null int64\n",
      "pcp_lookback         166573 non-null int64\n",
      "family_assignment    166573 non-null int64\n",
      "kid                  166573 non-null int64\n",
      "is_ped               166573 non-null int64\n",
      "same_gender          166573 non-null int64\n",
      "same_language        166573 non-null int64\n",
      "same_address         166573 non-null int64\n",
      "dtypes: float64(3), int64(11)\n",
      "memory usage: 17.8 MB\n"
     ]
    }
   ],
   "source": [
    "train.info()"
   ]
  },
  {
   "cell_type": "code",
   "execution_count": 10,
   "metadata": {},
   "outputs": [],
   "source": [
    "train['tier'].fillna(round(train['tier'].mean(),2),inplace=True)"
   ]
  },
  {
   "cell_type": "code",
   "execution_count": 11,
   "metadata": {},
   "outputs": [
    {
     "name": "stdout",
     "output_type": "stream",
     "text": [
      "<class 'pandas.core.frame.DataFrame'>\n",
      "RangeIndex: 166573 entries, 0 to 166572\n",
      "Data columns (total 14 columns):\n",
      "testindex            166573 non-null int64\n",
      "outcome              166573 non-null int64\n",
      "distance             166573 non-null float64\n",
      "visit_count          166573 non-null int64\n",
      "claims_daysaway      29417 non-null float64\n",
      "tier                 166573 non-null float64\n",
      "fqhc                 166573 non-null int64\n",
      "pcp_lookback         166573 non-null int64\n",
      "family_assignment    166573 non-null int64\n",
      "kid                  166573 non-null int64\n",
      "is_ped               166573 non-null int64\n",
      "same_gender          166573 non-null int64\n",
      "same_language        166573 non-null int64\n",
      "same_address         166573 non-null int64\n",
      "dtypes: float64(3), int64(11)\n",
      "memory usage: 17.8 MB\n"
     ]
    }
   ],
   "source": [
    "train.info()"
   ]
  },
  {
   "cell_type": "code",
   "execution_count": 12,
   "metadata": {},
   "outputs": [],
   "source": [
    "X = train.drop(['testindex','outcome','claims_daysaway'], axis=1)\n",
    "y = train['outcome']"
   ]
  },
  {
   "cell_type": "code",
   "execution_count": 13,
   "metadata": {},
   "outputs": [
    {
     "name": "stdout",
     "output_type": "stream",
     "text": [
      "(166573, 11)\n",
      "(166573,)\n"
     ]
    }
   ],
   "source": [
    "print(X.shape)\n",
    "print(y.shape)"
   ]
  },
  {
   "cell_type": "code",
   "execution_count": 14,
   "metadata": {},
   "outputs": [
    {
     "name": "stderr",
     "output_type": "stream",
     "text": [
      "C:\\Users\\Praveen\\Anaconda_3\\lib\\site-packages\\sklearn\\utils\\validation.py:595: DataConversionWarning: Data with input dtype int64 was converted to float64 by StandardScaler.\n",
      "  warnings.warn(msg, DataConversionWarning)\n",
      "C:\\Users\\Praveen\\Anaconda_3\\lib\\site-packages\\sklearn\\utils\\validation.py:595: DataConversionWarning: Data with input dtype int64 was converted to float64 by StandardScaler.\n",
      "  warnings.warn(msg, DataConversionWarning)\n"
     ]
    }
   ],
   "source": [
    "sc = StandardScaler()\n",
    "X['scaled_distance']= sc.fit_transform(X['distance'].values.reshape(-1,1))\n",
    "X['scaled_visit_count'] = sc.fit_transform(X['visit_count'].values.reshape(-1,1))\n",
    "X['scaled_tier'] = sc.fit_transform(X['tier'].values.reshape(-1,1))\n"
   ]
  },
  {
   "cell_type": "code",
   "execution_count": 15,
   "metadata": {},
   "outputs": [],
   "source": [
    "X = X.drop(['distance','visit_count','tier'],axis=1)"
   ]
  },
  {
   "cell_type": "code",
   "execution_count": 16,
   "metadata": {},
   "outputs": [
    {
     "data": {
      "text/plain": [
       "Index(['fqhc', 'pcp_lookback', 'family_assignment', 'kid', 'is_ped',\n",
       "       'same_gender', 'same_language', 'same_address', 'scaled_distance',\n",
       "       'scaled_visit_count', 'scaled_tier'],\n",
       "      dtype='object')"
      ]
     },
     "execution_count": 16,
     "metadata": {},
     "output_type": "execute_result"
    }
   ],
   "source": [
    "X.columns"
   ]
  },
  {
   "cell_type": "code",
   "execution_count": 17,
   "metadata": {},
   "outputs": [
    {
     "data": {
      "text/plain": [
       "0    159730\n",
       "1      6843\n",
       "Name: outcome, dtype: int64"
      ]
     },
     "execution_count": 17,
     "metadata": {},
     "output_type": "execute_result"
    }
   ],
   "source": [
    "y.value_counts()"
   ]
  },
  {
   "cell_type": "markdown",
   "metadata": {},
   "source": [
    "### train test split"
   ]
  },
  {
   "cell_type": "code",
   "execution_count": 18,
   "metadata": {},
   "outputs": [],
   "source": [
    "X_train, X_test, y_train, y_test = train_test_split(X, y, test_size=0.3, stratify=y)"
   ]
  },
  {
   "cell_type": "code",
   "execution_count": 19,
   "metadata": {},
   "outputs": [
    {
     "name": "stdout",
     "output_type": "stream",
     "text": [
      "(116601, 11)\n",
      "(116601,)\n"
     ]
    }
   ],
   "source": [
    "print(X_train.shape)\n",
    "print(y_train.shape)"
   ]
  },
  {
   "cell_type": "markdown",
   "metadata": {},
   "source": [
    "### XGBoostClassifier"
   ]
  },
  {
   "cell_type": "code",
   "execution_count": 20,
   "metadata": {},
   "outputs": [],
   "source": [
    "params ={\n",
    "    \"max_depth\" : range(4,10,2),\n",
    "    \"min_child_weight\" : range(1,6,2),\n",
    "    \"n_estimators\": [50,100,150,200],\n",
    "    \"gamma\" :[0,0.1,0.2,0.3],\n",
    "    \"learning_rate\":[0.001,0.01,0.1,1],\n",
    "    \"scale_pos_weight\":[20,25,30,35],\n",
    "}"
   ]
  },
  {
   "cell_type": "code",
   "execution_count": null,
   "metadata": {},
   "outputs": [],
   "source": [
    "clf = XGBClassifier()\n",
    "grid = GridSearchCV(clf,\n",
    "                    params, n_jobs=4,\n",
    "                    scoring=\"roc_auc\",\n",
    "                    cv=3)\n",
    "\n",
    "grid.fit(X_train, y_train)\n",
    "print(\"Best: %f using %s\" % (grid.best_score_, grid.best_params_))"
   ]
  },
  {
   "cell_type": "code",
   "execution_count": 18,
   "metadata": {},
   "outputs": [
    {
     "data": {
      "text/plain": [
       "XGBClassifier(base_score=0.5, booster='gbtree', colsample_bylevel=1,\n",
       "       colsample_bytree=1, gamma=0, learning_rate=0.1, max_delta_step=0,\n",
       "       max_depth=3, min_child_weight=1, missing=None, n_estimators=100,\n",
       "       n_jobs=1, nthread=None, objective='binary:logistic', random_state=0,\n",
       "       reg_alpha=0, reg_lambda=1, scale_pos_weight=23.4, seed=None,\n",
       "       silent=True, subsample=1)"
      ]
     },
     "execution_count": 18,
     "metadata": {},
     "output_type": "execute_result"
    }
   ],
   "source": [
    "#xgb = XGBClassifier(random_state=0, scale_pos_weight=23.4)\n",
    "#xgb.fit(X_train, y_train)"
   ]
  },
  {
   "cell_type": "code",
   "execution_count": 20,
   "metadata": {},
   "outputs": [
    {
     "name": "stdout",
     "output_type": "stream",
     "text": [
      "[[40550  7369]\n",
      " [  710  1343]]\n",
      "              precision    recall  f1-score   support\n",
      "\n",
      "           0       0.98      0.85      0.91     47919\n",
      "           1       0.15      0.65      0.25      2053\n",
      "\n",
      "   micro avg       0.84      0.84      0.84     49972\n",
      "   macro avg       0.57      0.75      0.58     49972\n",
      "weighted avg       0.95      0.84      0.88     49972\n",
      "\n",
      "auc score : 0.8209747559983279\n"
     ]
    }
   ],
   "source": [
    "y_pred = xgb.predict(X_test)\n",
    "print(confusion_matrix(y_test, y_pred))\n",
    "print(classification_report(y_test,y_pred))\n",
    "\n",
    "y_pred_prob = xgb.predict_proba(X_test)[:,1]\n",
    "\n",
    "# plotting roc_curve\n",
    "fpr, tpr, thresholds = roc_curve(y_test, y_pred_prob)\n",
    "print(\"auc score : {}\".format(roc_auc_score(y_test, y_pred_prob)))"
   ]
  },
  {
   "cell_type": "markdown",
   "metadata": {},
   "source": [
    "## Unknown TEST dataset"
   ]
  },
  {
   "cell_type": "code",
   "execution_count": 53,
   "metadata": {},
   "outputs": [
    {
     "data": {
      "text/plain": [
       "array([ 1.,  3.,  2.,  4., nan])"
      ]
     },
     "execution_count": 53,
     "metadata": {},
     "output_type": "execute_result"
    }
   ],
   "source": [
    "test = pd.read_csv(\"scoringData.csv\")\n",
    "test['tier'].unique()"
   ]
  },
  {
   "cell_type": "code",
   "execution_count": 54,
   "metadata": {},
   "outputs": [],
   "source": [
    "# populating null values\n",
    "test['tier']= test['tier'].fillna(round(test['tier'].mean(),2))"
   ]
  },
  {
   "cell_type": "code",
   "execution_count": 55,
   "metadata": {},
   "outputs": [
    {
     "name": "stdout",
     "output_type": "stream",
     "text": [
      "<class 'pandas.core.frame.DataFrame'>\n",
      "RangeIndex: 71388 entries, 0 to 71387\n",
      "Data columns (total 13 columns):\n",
      "testindex            71388 non-null int64\n",
      "distance             71388 non-null float64\n",
      "visit_count          71388 non-null int64\n",
      "claims_daysaway      12783 non-null float64\n",
      "tier                 71388 non-null float64\n",
      "fqhc                 71388 non-null int64\n",
      "pcp_lookback         71388 non-null int64\n",
      "family_assignment    71388 non-null int64\n",
      "kid                  71388 non-null int64\n",
      "is_ped               71388 non-null int64\n",
      "same_gender          71388 non-null int64\n",
      "same_language        71388 non-null int64\n",
      "same_address         71388 non-null int64\n",
      "dtypes: float64(3), int64(10)\n",
      "memory usage: 7.1 MB\n"
     ]
    }
   ],
   "source": [
    "test.info()"
   ]
  },
  {
   "cell_type": "code",
   "execution_count": 56,
   "metadata": {},
   "outputs": [],
   "source": [
    "X = test.drop(['testindex','claims_daysaway'], axis=1)"
   ]
  },
  {
   "cell_type": "code",
   "execution_count": 57,
   "metadata": {},
   "outputs": [
    {
     "name": "stdout",
     "output_type": "stream",
     "text": [
      "(71388, 11)\n"
     ]
    }
   ],
   "source": [
    "print(X.shape)"
   ]
  },
  {
   "cell_type": "markdown",
   "metadata": {},
   "source": [
    "#### scaling dataset "
   ]
  },
  {
   "cell_type": "code",
   "execution_count": 58,
   "metadata": {},
   "outputs": [
    {
     "name": "stderr",
     "output_type": "stream",
     "text": [
      "C:\\Users\\Praveen\\Anaconda_3\\lib\\site-packages\\sklearn\\utils\\validation.py:595: DataConversionWarning: Data with input dtype int64 was converted to float64 by StandardScaler.\n",
      "  warnings.warn(msg, DataConversionWarning)\n",
      "C:\\Users\\Praveen\\Anaconda_3\\lib\\site-packages\\sklearn\\utils\\validation.py:595: DataConversionWarning: Data with input dtype int64 was converted to float64 by StandardScaler.\n",
      "  warnings.warn(msg, DataConversionWarning)\n"
     ]
    }
   ],
   "source": [
    "X['scaled_distance']= sc.fit_transform(X['distance'].values.reshape(-1,1))\n",
    "X['scaled_visit_count'] = sc.fit_transform(X['visit_count'].values.reshape(-1,1))\n",
    "X['scaled_tier'] = sc.fit_transform(X['tier'].values.reshape(-1,1))"
   ]
  },
  {
   "cell_type": "code",
   "execution_count": 59,
   "metadata": {},
   "outputs": [],
   "source": [
    "# dropping non scaled columns now\n",
    "X = X.drop(['distance','visit_count','tier'],axis=1)"
   ]
  },
  {
   "cell_type": "code",
   "execution_count": 47,
   "metadata": {},
   "outputs": [
    {
     "data": {
      "text/html": [
       "<div>\n",
       "<style scoped>\n",
       "    .dataframe tbody tr th:only-of-type {\n",
       "        vertical-align: middle;\n",
       "    }\n",
       "\n",
       "    .dataframe tbody tr th {\n",
       "        vertical-align: top;\n",
       "    }\n",
       "\n",
       "    .dataframe thead th {\n",
       "        text-align: right;\n",
       "    }\n",
       "</style>\n",
       "<table border=\"1\" class=\"dataframe\">\n",
       "  <thead>\n",
       "    <tr style=\"text-align: right;\">\n",
       "      <th></th>\n",
       "      <th>fqhc</th>\n",
       "      <th>pcp_lookback</th>\n",
       "      <th>family_assignment</th>\n",
       "      <th>kid</th>\n",
       "      <th>is_ped</th>\n",
       "      <th>same_gender</th>\n",
       "      <th>same_language</th>\n",
       "      <th>same_address</th>\n",
       "      <th>scaled_distance</th>\n",
       "      <th>scaled_visit_count</th>\n",
       "      <th>scaled_tier</th>\n",
       "    </tr>\n",
       "  </thead>\n",
       "  <tbody>\n",
       "    <tr>\n",
       "      <th>0</th>\n",
       "      <td>1</td>\n",
       "      <td>0</td>\n",
       "      <td>0</td>\n",
       "      <td>1</td>\n",
       "      <td>1</td>\n",
       "      <td>1</td>\n",
       "      <td>0</td>\n",
       "      <td>0</td>\n",
       "      <td>-0.454209</td>\n",
       "      <td>-0.339068</td>\n",
       "      <td>-0.813053</td>\n",
       "    </tr>\n",
       "    <tr>\n",
       "      <th>1</th>\n",
       "      <td>0</td>\n",
       "      <td>0</td>\n",
       "      <td>1</td>\n",
       "      <td>1</td>\n",
       "      <td>1</td>\n",
       "      <td>0</td>\n",
       "      <td>0</td>\n",
       "      <td>0</td>\n",
       "      <td>-0.110327</td>\n",
       "      <td>-0.339068</td>\n",
       "      <td>1.244346</td>\n",
       "    </tr>\n",
       "    <tr>\n",
       "      <th>2</th>\n",
       "      <td>0</td>\n",
       "      <td>0</td>\n",
       "      <td>0</td>\n",
       "      <td>0</td>\n",
       "      <td>0</td>\n",
       "      <td>0</td>\n",
       "      <td>0</td>\n",
       "      <td>0</td>\n",
       "      <td>0.653442</td>\n",
       "      <td>-0.339068</td>\n",
       "      <td>0.215646</td>\n",
       "    </tr>\n",
       "    <tr>\n",
       "      <th>3</th>\n",
       "      <td>1</td>\n",
       "      <td>0</td>\n",
       "      <td>1</td>\n",
       "      <td>0</td>\n",
       "      <td>0</td>\n",
       "      <td>1</td>\n",
       "      <td>0</td>\n",
       "      <td>0</td>\n",
       "      <td>-0.480768</td>\n",
       "      <td>-0.339068</td>\n",
       "      <td>-0.813053</td>\n",
       "    </tr>\n",
       "    <tr>\n",
       "      <th>4</th>\n",
       "      <td>0</td>\n",
       "      <td>0</td>\n",
       "      <td>1</td>\n",
       "      <td>1</td>\n",
       "      <td>1</td>\n",
       "      <td>0</td>\n",
       "      <td>0</td>\n",
       "      <td>0</td>\n",
       "      <td>-0.405588</td>\n",
       "      <td>-0.339068</td>\n",
       "      <td>1.244346</td>\n",
       "    </tr>\n",
       "  </tbody>\n",
       "</table>\n",
       "</div>"
      ],
      "text/plain": [
       "   fqhc  pcp_lookback  family_assignment  kid  is_ped  same_gender  \\\n",
       "0     1             0                  0    1       1            1   \n",
       "1     0             0                  1    1       1            0   \n",
       "2     0             0                  0    0       0            0   \n",
       "3     1             0                  1    0       0            1   \n",
       "4     0             0                  1    1       1            0   \n",
       "\n",
       "   same_language  same_address  scaled_distance  scaled_visit_count  \\\n",
       "0              0             0        -0.454209           -0.339068   \n",
       "1              0             0        -0.110327           -0.339068   \n",
       "2              0             0         0.653442           -0.339068   \n",
       "3              0             0        -0.480768           -0.339068   \n",
       "4              0             0        -0.405588           -0.339068   \n",
       "\n",
       "   scaled_tier  \n",
       "0    -0.813053  \n",
       "1     1.244346  \n",
       "2     0.215646  \n",
       "3    -0.813053  \n",
       "4     1.244346  "
      ]
     },
     "execution_count": 47,
     "metadata": {},
     "output_type": "execute_result"
    }
   ],
   "source": [
    "X.head()"
   ]
  },
  {
   "cell_type": "code",
   "execution_count": 60,
   "metadata": {},
   "outputs": [
    {
     "name": "stdout",
     "output_type": "stream",
     "text": [
      "<class 'pandas.core.frame.DataFrame'>\n",
      "RangeIndex: 71388 entries, 0 to 71387\n",
      "Data columns (total 11 columns):\n",
      "fqhc                  71388 non-null int64\n",
      "pcp_lookback          71388 non-null int64\n",
      "family_assignment     71388 non-null int64\n",
      "kid                   71388 non-null int64\n",
      "is_ped                71388 non-null int64\n",
      "same_gender           71388 non-null int64\n",
      "same_language         71388 non-null int64\n",
      "same_address          71388 non-null int64\n",
      "scaled_distance       71388 non-null float64\n",
      "scaled_visit_count    71388 non-null float64\n",
      "scaled_tier           71388 non-null float64\n",
      "dtypes: float64(3), int64(8)\n",
      "memory usage: 6.0 MB\n"
     ]
    }
   ],
   "source": [
    "X.info()"
   ]
  },
  {
   "cell_type": "code",
   "execution_count": 65,
   "metadata": {},
   "outputs": [],
   "source": [
    "y_test_pred = rf1.predict(X)"
   ]
  },
  {
   "cell_type": "code",
   "execution_count": 66,
   "metadata": {},
   "outputs": [
    {
     "data": {
      "text/plain": [
       "0    57045\n",
       "1    14343\n",
       "dtype: int64"
      ]
     },
     "execution_count": 66,
     "metadata": {},
     "output_type": "execute_result"
    }
   ],
   "source": [
    "pd.value_counts(pd.Series(y_test_pred))"
   ]
  },
  {
   "cell_type": "code",
   "execution_count": 125,
   "metadata": {},
   "outputs": [],
   "source": [
    "### Generating output file using XGB model"
   ]
  },
  {
   "cell_type": "code",
   "execution_count": 121,
   "metadata": {},
   "outputs": [],
   "source": [
    "y_xgb_pred = xgb.predict(X)"
   ]
  },
  {
   "cell_type": "code",
   "execution_count": 124,
   "metadata": {},
   "outputs": [
    {
     "data": {
      "text/html": [
       "<div>\n",
       "<style scoped>\n",
       "    .dataframe tbody tr th:only-of-type {\n",
       "        vertical-align: middle;\n",
       "    }\n",
       "\n",
       "    .dataframe tbody tr th {\n",
       "        vertical-align: top;\n",
       "    }\n",
       "\n",
       "    .dataframe thead th {\n",
       "        text-align: right;\n",
       "    }\n",
       "</style>\n",
       "<table border=\"1\" class=\"dataframe\">\n",
       "  <thead>\n",
       "    <tr style=\"text-align: right;\">\n",
       "      <th></th>\n",
       "      <th>fqhc</th>\n",
       "      <th>pcp_lookback</th>\n",
       "      <th>family_assignment</th>\n",
       "      <th>kid</th>\n",
       "      <th>is_ped</th>\n",
       "      <th>same_gender</th>\n",
       "      <th>same_language</th>\n",
       "      <th>same_address</th>\n",
       "      <th>scaled_distance</th>\n",
       "      <th>scaled_visit_count</th>\n",
       "      <th>scaled_tier</th>\n",
       "    </tr>\n",
       "  </thead>\n",
       "  <tbody>\n",
       "    <tr>\n",
       "      <th>0</th>\n",
       "      <td>1</td>\n",
       "      <td>0</td>\n",
       "      <td>0</td>\n",
       "      <td>1</td>\n",
       "      <td>1</td>\n",
       "      <td>1</td>\n",
       "      <td>0</td>\n",
       "      <td>0</td>\n",
       "      <td>-0.454209</td>\n",
       "      <td>-0.339068</td>\n",
       "      <td>-0.814388</td>\n",
       "    </tr>\n",
       "    <tr>\n",
       "      <th>1</th>\n",
       "      <td>0</td>\n",
       "      <td>0</td>\n",
       "      <td>1</td>\n",
       "      <td>1</td>\n",
       "      <td>1</td>\n",
       "      <td>0</td>\n",
       "      <td>0</td>\n",
       "      <td>0</td>\n",
       "      <td>-0.110327</td>\n",
       "      <td>-0.339068</td>\n",
       "      <td>1.246391</td>\n",
       "    </tr>\n",
       "    <tr>\n",
       "      <th>2</th>\n",
       "      <td>0</td>\n",
       "      <td>0</td>\n",
       "      <td>0</td>\n",
       "      <td>0</td>\n",
       "      <td>0</td>\n",
       "      <td>0</td>\n",
       "      <td>0</td>\n",
       "      <td>0</td>\n",
       "      <td>0.653442</td>\n",
       "      <td>-0.339068</td>\n",
       "      <td>0.216002</td>\n",
       "    </tr>\n",
       "    <tr>\n",
       "      <th>3</th>\n",
       "      <td>1</td>\n",
       "      <td>0</td>\n",
       "      <td>1</td>\n",
       "      <td>0</td>\n",
       "      <td>0</td>\n",
       "      <td>1</td>\n",
       "      <td>0</td>\n",
       "      <td>0</td>\n",
       "      <td>-0.480768</td>\n",
       "      <td>-0.339068</td>\n",
       "      <td>-0.814388</td>\n",
       "    </tr>\n",
       "    <tr>\n",
       "      <th>4</th>\n",
       "      <td>0</td>\n",
       "      <td>0</td>\n",
       "      <td>1</td>\n",
       "      <td>1</td>\n",
       "      <td>1</td>\n",
       "      <td>0</td>\n",
       "      <td>0</td>\n",
       "      <td>0</td>\n",
       "      <td>-0.405588</td>\n",
       "      <td>-0.339068</td>\n",
       "      <td>1.246391</td>\n",
       "    </tr>\n",
       "  </tbody>\n",
       "</table>\n",
       "</div>"
      ],
      "text/plain": [
       "   fqhc  pcp_lookback  family_assignment  kid  is_ped  same_gender  \\\n",
       "0     1             0                  0    1       1            1   \n",
       "1     0             0                  1    1       1            0   \n",
       "2     0             0                  0    0       0            0   \n",
       "3     1             0                  1    0       0            1   \n",
       "4     0             0                  1    1       1            0   \n",
       "\n",
       "   same_language  same_address  scaled_distance  scaled_visit_count  \\\n",
       "0              0             0        -0.454209           -0.339068   \n",
       "1              0             0        -0.110327           -0.339068   \n",
       "2              0             0         0.653442           -0.339068   \n",
       "3              0             0        -0.480768           -0.339068   \n",
       "4              0             0        -0.405588           -0.339068   \n",
       "\n",
       "   scaled_tier  \n",
       "0    -0.814388  \n",
       "1     1.246391  \n",
       "2     0.216002  \n",
       "3    -0.814388  \n",
       "4     1.246391  "
      ]
     },
     "execution_count": 124,
     "metadata": {},
     "output_type": "execute_result"
    }
   ],
   "source": [
    "X.head()"
   ]
  },
  {
   "cell_type": "code",
   "execution_count": 122,
   "metadata": {},
   "outputs": [
    {
     "data": {
      "text/plain": [
       "0    70970\n",
       "1      418\n",
       "dtype: int64"
      ]
     },
     "execution_count": 122,
     "metadata": {},
     "output_type": "execute_result"
    }
   ],
   "source": [
    "pd.value_counts(pd.Series(y_xgb_pred))"
   ]
  },
  {
   "cell_type": "code",
   "execution_count": 123,
   "metadata": {},
   "outputs": [],
   "source": [
    "pd.DataFrame({'testindex': test['testindex'], 'Predicted':y_xgb_pred}).to_csv(\"output_xgb.csv\", index=False)"
   ]
  },
  {
   "cell_type": "code",
   "execution_count": null,
   "metadata": {},
   "outputs": [],
   "source": []
  }
 ],
 "metadata": {
  "kernelspec": {
   "display_name": "Python 3",
   "language": "python",
   "name": "python3"
  },
  "language_info": {
   "codemirror_mode": {
    "name": "ipython",
    "version": 3
   },
   "file_extension": ".py",
   "mimetype": "text/x-python",
   "name": "python",
   "nbconvert_exporter": "python",
   "pygments_lexer": "ipython3",
   "version": "3.6.5"
  }
 },
 "nbformat": 4,
 "nbformat_minor": 2
}
